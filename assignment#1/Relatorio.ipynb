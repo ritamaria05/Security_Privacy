{
 "cells": [
  {
   "cell_type": "markdown",
   "metadata": {},
   "source": [
    "# **Performance Benchmarking of Cryptographic Mechanisms**"
   ]
  },
  {
   "cell_type": "markdown",
   "metadata": {},
   "source": [
    "Trabalho realizado pelos alunos Maximiliano Vítor Phillips e Sá (up202305979),Rita Maria Pinho Moreira (up202303885) e Samuel José Sousa Ventura da Silva (up202305647)."
   ]
  },
  {
   "cell_type": "markdown",
   "metadata": {},
   "source": [
    "## 0. Índice\n",
    "1. Introdução\n",
    "2. Implementação\n",
    "3. Análise de Resultados\n",
    "4. COnclusão\n",
    "5. Webgrafia"
   ]
  },
  {
   "cell_type": "markdown",
   "metadata": {},
   "source": [
    "## 1. Introdução"
   ]
  },
  {
   "cell_type": "markdown",
   "metadata": {},
   "source": [
    "Este projeto tem como objetivo analisar o desempenho dos algoritmos AES, RSA e SHA-256 na encriptação/desencriptação e hashing de arquivos de diferentes tamanhos. Para avaliar o desempenho dos algoritmos AES, RSA e SHA-256, desenvolvemos funções em Python utilizando as bibliotecas **cryptography, hashlib, matplotlib, numpy e timeit**. Medimos o tempo de execução dos processos de encriptação, desencriptação e hashing em ficheiros de diferentes tamanhos. Os resultados foram visualizados por meio de gráficos gerados com **matplotlib** para facilitar a interpretação dos dados."
   ]
  },
  {
   "cell_type": "markdown",
   "metadata": {},
   "source": [
    "### AES (Advanced Encryption Standard)"
   ]
  },
  {
   "cell_type": "markdown",
   "metadata": {},
   "source": [
    "O AES é um algoritmo de criptografia simétrica, ou seja, usa a mesma chave para encriptação e decriptação. Ele opera com blocos de 128 bits e suporta chaves de 128, 192 ou 256 bits. O AES é amplamente utilizado devido à sua segurança, velocidade e eficiência em hardware e software. Um dos modos mais utilizados neste algoritmo é o CBC (Cipher Block Chaining). Este divide os dados a serem criptografados em blocos de 16 bytes, sendo o primeiro dos blocos combinado com um vetor de inicialização, via XOR, antes de ser criptografado Isso permite um encadeamento de blocos, em que cada bloco de texto cifrado é usado para modificar o próximo bloco antes da criptografia. "
   ]
  },
  {
   "cell_type": "markdown",
   "metadata": {},
   "source": [
    "### RSA (Rivest-Shamir-Adleman)"
   ]
  },
  {
   "cell_type": "markdown",
   "metadata": {},
   "source": [
    "O RSA é um algoritmo de criptografia assimétrica, ou seja, usa um par de chaves: uma chave pública para encriptação e uma chave privada para decriptação. O RSA suporta chaves de 2048, 3072 e 4096 bits mas uma chave de 2048 bits é considerada suficientemente segura e é o tamanho mais utilizado. É uma das mais antigas e mais utilizadas formas de transmisão segura de dados. O sistema de encriptação utiliza uma factorização de dois números primos e não há nenhum método publicado para hackear o sistema devido à chave grande."
   ]
  },
  {
   "cell_type": "markdown",
   "metadata": {},
   "source": [
    "### SHA (Secure Hash Algorithm)"
   ]
  },
  {
   "cell_type": "markdown",
   "metadata": {},
   "source": [
    "O SHA é uma família de funções de hash criptográfico desenvolvida pela NSA (National Security Agency). A sua principal função é converter dados de qualquer tamanho num tamanho fixo de bits (hash), garantindo integridade e autenticidade. Este algoritmo possui 3 grupos: SHA-1, de 160 bits, considerado por muitos inseguro; SHA-2, que vai de 224 bits a 512 bits, bastante seguro e usado; e SHA-3, com os mesmos bits do grupo anterior, mas mais resistente a ataques.\n",
    "\n",
    "O trabalho foca-se no SHA-256, que gera um hash de 256 bits. É amplamente utilizado em assinaturas digitais, blockchain e verificação de integridade de arquivos. Atualmente, é considerado muito seguro, sem ataques práticos conhecidos."
   ]
  },
  {
   "cell_type": "markdown",
   "metadata": {},
   "source": [
    "---"
   ]
  },
  {
   "cell_type": "markdown",
   "metadata": {},
   "source": [
    "## 2. Implementação "
   ]
  },
  {
   "cell_type": "markdown",
   "metadata": {},
   "source": [
    "### Geração de Arquivos"
   ]
  },
  {
   "cell_type": "markdown",
   "metadata": {},
   "source": [
    "Foram gerados, para este projeto, 100 ficheiros para cada tamanho pedido, através do bloco de código abaixo. Este cria, para cada tamanho constatado no array file_sizes, uma pasta para o mesmo, onde gera e armazena os 100 ficheiros."
   ]
  },
  {
   "cell_type": "code",
   "execution_count": 1,
   "metadata": {},
   "outputs": [],
   "source": [
    "import os\n",
    "import random\n",
    "import string\n",
    "\n",
    "def generate_random_file(folder, filename, size):\n",
    "    file_path = os.path.join(\"text_files\", folder, filename)\n",
    "    os.makedirs(os.path.dirname(file_path), exist_ok=True)\n",
    "    \n",
    "    random_content = ''.join(\n",
    "        random.choices(string.ascii_letters + string.digits, \n",
    "                       k=size)\n",
    "        )\n",
    "    with open(file_path, \"w\") as f:\n",
    "        f.write(random_content)\n",
    "\n",
    "file_sizes = [2, 4, 8, 16, 32, 64, 128, 512, \n",
    "              4096, 32768, 262144, 2097152]\n",
    "for size in file_sizes:\n",
    "    folder_name = str(size)  # Folder named after size\n",
    "    for i in range(1, 101):\n",
    "        generate_random_file(folder_name, \n",
    "                             f\"{size}_{i}.txt\", size)"
   ]
  },
  {
   "cell_type": "markdown",
   "metadata": {},
   "source": [
    "---"
   ]
  },
  {
   "cell_type": "markdown",
   "metadata": {},
   "source": [
    "### Encriptação e Desencriptação com AES"
   ]
  },
  {
   "cell_type": "markdown",
   "metadata": {},
   "source": [
    "Para a implementação das funções de AES, são necessárias bibliotecas e módulos, tal como algumas variáveis globais, que permitem o acesso às mesmas em várias funções definidas posteriormente."
   ]
  },
  {
   "cell_type": "code",
   "execution_count": 2,
   "metadata": {},
   "outputs": [],
   "source": [
    "from cryptography.hazmat.primitives.ciphers import (\n",
    "    Cipher,algorithms,modes)\n",
    "from cryptography.hazmat.primitives import padding\n",
    "import os\n",
    "import timeit\n",
    "import matplotlib.pyplot as plt\n",
    "import matplotlib.ticker as ticker\n",
    "import numpy as np\n",
    "\n",
    "sizes = [8, 64, 512, 4096, 32768, 262144, 2097152]\n",
    "results = {}\n",
    "key = os.urandom(32) # key of 32 bytes (256 bits)"
   ]
  },
  {
   "cell_type": "markdown",
   "metadata": {},
   "source": [
    "A função **encrypt(data,size,iv)** cria um objeto de cifra AES, no modo CBC (Cipher Block Chaining) com uma chave (key, variável global definida acima) e um vetor de inicializção (iv), para um ficheiro de tamanho size. Se os dados não forem múltiplos de 16 bytes, este adiciona preenchimento (padding PKCS7) para que fiquem com o tamanho correto. A função encripta os dados (data) e retorna o resultado.\n",
    "\n",
    "A função **decrypt(ciphertext, size, iv)** cria um objeto de cifra AES, no mesmo modo, com a mesma chave e vetor de inicialização. Se os dados tiverem sido preenchidos anteriormente (padding), a função remove esse preenchimento após o processo. Retorna os dados originais desencriptados. "
   ]
  },
  {
   "cell_type": "code",
   "execution_count": 3,
   "metadata": {},
   "outputs": [],
   "source": [
    "def encrypt(data, size, iv):\n",
    "    cipher = Cipher(algorithms.AES(key), modes.CBC(iv))\n",
    "    encryptor = cipher.encryptor()\n",
    "\n",
    "    # bytes have to be a multiple of 16... if not add padding\n",
    "    if size % 16 != 0:\n",
    "        # Pad the data to the AES block size (128 bits)\n",
    "        padder = padding.PKCS7(128).padder()\n",
    "        padded_data = padder.update(data) + padder.finalize()\n",
    "        ct = encryptor.update(padded_data) + (\n",
    "            encryptor.finalize())\n",
    "        return ct\n",
    "    else:\n",
    "        ct = encryptor.update(data) + encryptor.finalize()\n",
    "        return ct\n",
    "\n",
    "\n",
    "def decrypt(ciphertext, size, iv):\n",
    "    # if not a size multiple of 16 it will have padding to be \n",
    "    #removed\n",
    "    if size % 16 != 0:\n",
    "        cipher = Cipher(algorithms.AES(key), modes.CBC(iv))\n",
    "        decryptor = cipher.decryptor()\n",
    "        padded_data = decryptor.update(ciphertext) + (\n",
    "        decryptor.finalize())\n",
    "        unpadder = padding.PKCS7(128).unpadder()\n",
    "        data = unpadder.update(padded_data) + (\n",
    "            unpadder.finalize())\n",
    "        return data\n",
    "    else:\n",
    "        cipher = Cipher(algorithms.AES(key), modes.CBC(iv))\n",
    "        decryptor = cipher.decryptor()\n",
    "        data = decryptor.update(ciphertext) + (\n",
    "            decryptor.finalize())\n",
    "        return data"
   ]
  },
  {
   "cell_type": "markdown",
   "metadata": {},
   "source": [
    "---"
   ]
  },
  {
   "cell_type": "markdown",
   "metadata": {},
   "source": [
    "### Encriptação e Desencriptação com RSA"
   ]
  },
  {
   "cell_type": "markdown",
   "metadata": {},
   "source": [
    "Para as funções de RSA são necessários alguns módulos da biblioteca cryptography, tal como um gerador de chave privada e chave pública, necessárias para a encriptação e desencriptação em RSA."
   ]
  },
  {
   "cell_type": "code",
   "execution_count": 4,
   "metadata": {},
   "outputs": [],
   "source": [
    "from cryptography.hazmat.primitives.asymmetric import (\n",
    "    rsa, padding)\n",
    "from cryptography.hazmat.primitives import (\n",
    "    serialization, hashes)\n",
    "\n",
    "# Generate RSA Key Pair (2048-bit)\n",
    "private_key = rsa.generate_private_key(\n",
    "    public_exponent=65537,\n",
    "    key_size=2048\n",
    ")\n",
    "public_key = private_key.public_key()"
   ]
  },
  {
   "cell_type": "markdown",
   "metadata": {},
   "source": [
    "A função **encrypt_data(data)** usa uma chave pública (public_key) para cifrar os dados. Aplica OAEP (Optimal Asymmetric Encryption Padding) com SHA-256, que aumenta a segurança ao evitar ataques baseados em estrutura de texto. Retorna os dados cifrados, que só podem ser decifrados com a chave privada (private_key) correspondente.\n",
    "\n",
    "A função **decrypt_data(encrypted_data)** usa a chava privada (private_key) para decifrar os dados, aplicando o mesmo sistema OAEP + SHA-256 para garantir segurança. Retorna os dados originais, isto é, os dados anteriores à criptografia."
   ]
  },
  {
   "cell_type": "code",
   "execution_count": 5,
   "metadata": {},
   "outputs": [],
   "source": [
    "# Function to encrypt data\n",
    "def encrypt_data(data):\n",
    "    return public_key.encrypt(\n",
    "        data,\n",
    "        padding.OAEP(\n",
    "            mgf=padding.MGF1(algorithm=hashes.SHA256()),\n",
    "            algorithm=hashes.SHA256(),\n",
    "            label=None\n",
    "        )\n",
    "    )\n",
    "\n",
    "# Function to decrypt data\n",
    "def decrypt_data(encrypted_data):\n",
    "    return private_key.decrypt(\n",
    "        encrypted_data,\n",
    "        padding.OAEP(\n",
    "            mgf=padding.MGF1(algorithm=hashes.SHA256()),\n",
    "            algorithm=hashes.SHA256(),\n",
    "            label=None\n",
    "        )\n",
    "    )"
   ]
  },
  {
   "cell_type": "markdown",
   "metadata": {},
   "source": [
    "---"
   ]
  },
  {
   "cell_type": "markdown",
   "metadata": {},
   "source": [
    "### Hashing com SHA-256"
   ]
  },
  {
   "cell_type": "markdown",
   "metadata": {},
   "source": [
    "O processo hashing transforma o \"input\", file_data, de qualquer tamanho, num hash fixo de 256 bits, ou 64 caracteres hexadecimais. Para isto, é necessário importar a biblioteca hashlib. Também foi criada uma lista para armazenar os tamanhos que serão tratados com SHA-256 e um dicionário para armazenar o desvio padrão de cada tamanho."
   ]
  },
  {
   "cell_type": "code",
   "execution_count": 6,
   "metadata": {},
   "outputs": [],
   "source": [
    "import hashlib\n",
    "sizes = [8, 64, 512, 4096, 32768, 262144, 2097152]\n",
    "std_dev = {}\n",
    "#Gerar a hash SHA-256 \n",
    "def calculate_sha256_hash(file_data):\n",
    "    return hashlib.sha256(file_data).hexdigest()"
   ]
  },
  {
   "cell_type": "markdown",
   "metadata": {},
   "source": [
    "---"
   ]
  },
  {
   "cell_type": "markdown",
   "metadata": {},
   "source": [
    "### Cálculo de intervalos de confiança\n",
    " Dá-nos uma estimativa de incerteza ao inferir sobre uma população com base numa amostra. Tem como nível de confiança 95%. com uma distribuição normal."
   ]
  },
  {
   "cell_type": "code",
   "execution_count": 7,
   "metadata": {},
   "outputs": [],
   "source": [
    "# Calculate and return the confidence interval for the given data.\n",
    "def get_confidence_interval(data, confidence=0.95):\n",
    "    # Parameters: confidence (float): \n",
    "    #The confidence level (default is 0.95).\n",
    "    n = len(data)\n",
    "    mean = np.mean(data)\n",
    "    std_dev = np.std(data, ddof=1)\n",
    "    se = std_dev / np.sqrt(n)\n",
    "    \n",
    "    # 95% confidence, using the normal distribution approximation: \n",
    "    #the z-score is 1.96.\n",
    "    z = 1.96  \n",
    "    margin_error = z * se\n",
    "    return (mean - margin_error, mean + margin_error)"
   ]
  },
  {
   "cell_type": "markdown",
   "metadata": {},
   "source": [
    "---"
   ]
  },
  {
   "cell_type": "markdown",
   "metadata": {},
   "source": [
    "### Medição do Tempo e processamento de ficheiros com AES"
   ]
  },
  {
   "cell_type": "markdown",
   "metadata": {},
   "source": [
    "Para processar todos os ficheiros de um só tamanho (100), é usada a função **processAllFiles(size)**, que mede o tempo de encriptação e desencriptação de cada ficheiro, em microssegundos, que será impresso no terminal. Cada tempo será armazenado no respetivo array: se for o tempo de encriptação irá para o arrayEnc, e se for de desencriptação irá para o arrayDec. No final, armazenamos no dicionário results (variável global) esses arrays, com a chave \"encryption_time\" e \"decryption_time\" para facilitar a identificação. Também nos são dados os intervalos de confiança para cada tamanho de ficheiro."
   ]
  },
  {
   "cell_type": "code",
   "execution_count": 8,
   "metadata": {},
   "outputs": [],
   "source": [
    "def processAllFiles(size):\n",
    "    # Array to store encryption times for 100 files\n",
    "    arrEnc = [0] * 100  \n",
    "    # Array to store decryption times for 100 files\n",
    "    arrDec = [0] * 100  \n",
    "    for i in range(1, 101):\n",
    "        file_path = os.path.join(\n",
    "            \"text_files\", str(size), f\"{size}_{i}.txt\")\n",
    "        with open(file_path, \"rb\") as file:\n",
    "            plaintext = file.read()\n",
    "        iv = os.urandom(16)  # IV has to be 16 bytes\n",
    "\n",
    "        # Encrypt and time encryption\n",
    "        encrypt_timer = timeit.Timer(\n",
    "            lambda: encrypt(plaintext, size, iv))\n",
    "        enc_time = (\n",
    "            encrypt_timer.timeit(number=100) / 100) * 1000000\n",
    "        arrEnc[i - 1] = enc_time\n",
    "\n",
    "        ciphertext = encrypt(plaintext, size, iv)\n",
    "\n",
    "        # Decrypt and time decryption\n",
    "        decrypt_timer = timeit.Timer(\n",
    "            lambda: decrypt(ciphertext, size, iv))\n",
    "        dec_time = (\n",
    "            decrypt_timer.timeit(number=100) / 100) * 1000000\n",
    "        arrDec[i - 1] = dec_time\n",
    "\n",
    "    confidenceEnc = get_confidence_interval(arrEnc)\n",
    "    confidenceDec = get_confidence_interval(arrDec)\n",
    "    print(f\"{size} bytes:\\tEncryption: (\n",
    "          {confidenceEnc[0]:.2f}, \n",
    "          {confidenceEnc[1]:.2f})\\tDecryption: \n",
    "          ({confidenceDec[0]:.2f}, \n",
    "          {confidenceDec[1]:.2f})\")\n",
    "    # Store all times for the given size\n",
    "    results[size] = {'encryption_time': arrEnc, \n",
    "                     'decryption_time': arrDec}"
   ]
  },
  {
   "cell_type": "markdown",
   "metadata": {},
   "source": [
    "A função **processUnique(file, size)** é utilizada para a medição de tempo de um só ficheiro, 100 vezes, para se observar as variações de tempo do mesmo a cada encriptação ou desencriptação. Armazenamos, assim, cada tempo de encriptação no arrayEnc e cada tempo de desencriptação no arrayDec, e no fim é chamada uma função **plot_results(arrayEnc, arrayDec, file)** que cria um gráfico de linhas com os resultados, exposto no capítulo 3, [Análise de Resultados](#3-análise-de-resultados)."
   ]
  },
  {
   "cell_type": "code",
   "execution_count": 9,
   "metadata": {},
   "outputs": [],
   "source": [
    "def processUnique(file,size):\n",
    "    file_path = os.path.join(\"text_files\", str(size), file)\n",
    "    # Check if the file exists\n",
    "    if not os.path.isfile(file_path):\n",
    "        print(f\"Error: File {file_path} not found.\")\n",
    "        return\n",
    "    # Read the file only once\n",
    "    with open(file_path, \"rb\") as f:\n",
    "        data = f.read()\n",
    "    # Arrays to store encryption and decryption times\n",
    "    arrayEnc = []\n",
    "    arrayDec = []\n",
    "    #print(f\"{file:<8}:\")\n",
    "    for i in range(100):\n",
    "        with open(file_path, \"rb\") as f:\n",
    "            plaintext = f.read()\n",
    "        iv = os.urandom(16)  # IV has to be 16 bytes\n",
    "        # Encrypt and time encryption\n",
    "        encrypt_timer = timeit.Timer(\n",
    "            lambda: encrypt(plaintext, size, iv))\n",
    "        enc_time = (\n",
    "            encrypt_timer.timeit(number=1000) / 1000) * 1000000\n",
    "        arrayEnc.append(enc_time)\n",
    "\n",
    "        ciphertext = encrypt(plaintext, size, iv)\n",
    "\n",
    "        # Decrypt and time decryption\n",
    "        decrypt_timer = timeit.Timer(\n",
    "            lambda: decrypt(ciphertext, size, iv))\n",
    "        dec_time = (\n",
    "            decrypt_timer.timeit(number=1000) / 1000) * 1000000\n",
    "        arrayDec.append(dec_time) \n",
    "\n",
    "    plot_results(arrayEnc, arrayDec, file)"
   ]
  },
  {
   "cell_type": "markdown",
   "metadata": {},
   "source": [
    "---"
   ]
  },
  {
   "cell_type": "markdown",
   "metadata": {},
   "source": [
    "### Medição do Tempo e processamento de ficheiros com RSA"
   ]
  },
  {
   "cell_type": "markdown",
   "metadata": {},
   "source": [
    "A função **process_all_files(size)**, usa o mesmo método que a função para AES, mas sem o vetor de inicialização. Também nos são fornecidos os intervalos de confiança para cada tamanho de ficheiro."
   ]
  },
  {
   "cell_type": "code",
   "execution_count": 10,
   "metadata": {},
   "outputs": [],
   "source": [
    "def process_all_files(size):\n",
    "    arrayEnc = [0]*100\n",
    "    arrayDec = [0]*100\n",
    "    results[size] = {'encryption_time': [], 'decryption_time': []}\n",
    "    for i in range(1,101):\n",
    "        file_path = os.path.join(\n",
    "            \"text_files\", str(size), str(size)+\"_\"+str(i)+\".txt\")\n",
    "\n",
    "        if os.path.isfile(file_path):\n",
    "            with open(file_path, \"rb\") as f:\n",
    "                data = f.read()\n",
    "\n",
    "            # Measure encryption time\n",
    "            enc_time = (timeit.timeit(\n",
    "                lambda: encrypt_data(data), \n",
    "                number=100) / 100)* (\n",
    "                    1_000_000 )\n",
    "            encrypted_data = encrypt_data(data)\n",
    "            arrayEnc[i-1] = enc_time\n",
    "            # Measure decryption time\n",
    "            dec_time = (\n",
    "                timeit.timeit(\n",
    "                    lambda: decrypt_data(encrypted_data), \n",
    "                    number=100) \n",
    "                    / 100)* (1_000_000)\n",
    "            arrayDec[i-1] = dec_time\n",
    "            # Store results\n",
    "            results[size]['encryption_time'].append(enc_time)\n",
    "            results[size]['decryption_time'].append(dec_time)\n",
    "            filename = str(size) + \"_\" + str(i) + \".txt\"\n",
    "            #print(f\"{filename:<8} | {size:<12} | {enc_time:.9f}         | \n",
    "            #{dec_time:.6f}\")\n",
    "    \n",
    "    confidenceEnc = get_confidence_interval(arrayEnc)\n",
    "    confidenceDec = get_confidence_interval(arrayDec)\n",
    "    print(f\"{size} bytes:\\tEncryption: (\n",
    "          {confidenceEnc[0]:.2f}, \n",
    "          {confidenceEnc[1]:.2f})\\tDecryption: (\n",
    "            {confidenceDec[0]:.2f}, \n",
    "            {confidenceDec[1]:.2f})\")"
   ]
  },
  {
   "cell_type": "markdown",
   "metadata": {},
   "source": [
    "A função **process_unique(file, size)** tem o mesmo efeito que a função processUnique para AES, imprimindo no terminal o tempo que o mesmo ficheiro demora a codificar e descodificar, para cada iteração. Após isso é chamada uma função **plot_results(arrayEnc, arrayDec, file)** que retorna um gráfico de linhas com os resultados, também acessível no Capítulo 3, [Análise de Resultados](#3-análise-de-resultados)."
   ]
  },
  {
   "cell_type": "code",
   "execution_count": 11,
   "metadata": {},
   "outputs": [],
   "source": [
    "def process_unique(file,size):\n",
    "    file_path = os.path.join(\"text_files\", str(size), file)\n",
    "    # Check if the file exists\n",
    "    if not os.path.isfile(file_path):\n",
    "        print(f\"Error: File {file_path} not found.\")\n",
    "        return\n",
    "    # Read the file only once\n",
    "    with open(file_path, \"rb\") as f:\n",
    "        data = f.read()\n",
    "    # Arrays to store encryption and decryption times\n",
    "    arrayEnc = []\n",
    "    arrayDec = []\n",
    "    #print(f\"{file:<8}:\")\n",
    "    for i in range(100):  # Run 100 times for accuracy\n",
    "        try:\n",
    "            # Measure encryption time\n",
    "            enc_time = (\n",
    "                timeit.timeit(\n",
    "                    lambda: encrypt_data(data), \n",
    "                    number=100) \n",
    "                    / 100)* 1_000_000\n",
    "            encrypted_data = encrypt_data(data)\n",
    "        except Exception as e:\n",
    "            print(f\"Error encrypting {file}: {e}\")\n",
    "            continue\n",
    "        arrayEnc.append(enc_time)\n",
    "        try:\n",
    "            # Measure decryption time\n",
    "            dec_time = (\n",
    "                timeit.timeit(\n",
    "                    lambda: decrypt_data(encrypted_data), \n",
    "                    number=100) \n",
    "                    / 100)* (1_000_000)\n",
    "        except Exception as e:\n",
    "            print(f\"Error decrypting {file}: {e}\")\n",
    "            continue\n",
    "        arrayDec.append(dec_time)\n",
    "    # Print averaged results\n",
    "        #print(f\"Encryption Time: {arrayEnc[i]:.9f} s | Decryption Time: \n",
    "        #{arrayDec[i]:.6f} s\")\n",
    "    plot_results(arrayEnc, arrayDec, file)"
   ]
  },
  {
   "cell_type": "markdown",
   "metadata": {},
   "source": [
    "---"
   ]
  },
  {
   "cell_type": "markdown",
   "metadata": {},
   "source": [
    "### Medição do Tempo e processamento de ficheiros com SHA"
   ]
  },
  {
   "cell_type": "markdown",
   "metadata": {},
   "source": [
    "A função **process_files(base_dir, size)**, semelhante às funções processAllFiles (AES) e process_all_files (RSA), calcula e retorna o tempo de hashing de 100 ficheiros de cada tamanho, em microssegundos. É nos disponibilizado, também, o intervalo de confiança e o desvio padrão para os resultados obtidos."
   ]
  },
  {
   "cell_type": "code",
   "execution_count": 12,
   "metadata": {},
   "outputs": [],
   "source": [
    "def process_files(base_dir, size):\n",
    "    size_dir = os.path.join(base_dir, str(size))\n",
    "    hash_times = []\n",
    "    \n",
    "    for i in range(1, 101):\n",
    "        file_path = os.path.join(size_dir, f\"{size}_{i}.txt\")\n",
    "        if os.path.exists(file_path):\n",
    "            with open(file_path, \"rb\") as file:\n",
    "                file_data = file.read()\n",
    "                \n",
    "                timer = timeit.Timer(\n",
    "                    lambda: calculate_sha256_hash(file_data))\n",
    "                hash_time = (\n",
    "                    timer.timeit(number=100) / 100) * 1000000\n",
    "                hash_times.append(hash_time)\n",
    "\n",
    "    confidenceHash = get_confidence_interval(hash_times)\n",
    "    print(f\"{size} bytes:\\tHashing: \n",
    "          ({confidenceHash[0]:.2f}, {confidenceHash[1]:.2f})\")\n",
    "    # ddof=1 for sample std deviation\n",
    "    std_hash = np.std(hash_times, ddof=1)  \n",
    "    std_dev[size] = std_hash\n",
    "    # Gráfico de distribuição\n",
    "    plt.figure(figsize=(10, 6))\n",
    "    plt.text(0.75, 1.05, f\"Std Dev: {std_hash:.2f}\", \n",
    "             fontsize=12, color='blue',\n",
    "             verticalalignment='bottom', \n",
    "             horizontalalignment='center', \n",
    "             transform=plt.gca().transAxes)\n",
    "    # Show ticks every 10 iterations\n",
    "    tick_positions = range(0, 101, 10)  \n",
    "    # Set X-axis to display only 10th iterations\n",
    "    plt.xticks(tick_positions)  \n",
    "    # Set the width of the bars\n",
    "    bar_width = 1\n",
    "    index = range(1, len(hash_times) + 1)  # Indices for X-axis\n",
    "    # Plot the lines\n",
    "    plt.plot([i - bar_width / 2 for i in index], \n",
    "             hash_times, '-', linewidth=2, \n",
    "             color='blue', label='Tempo de Hash')\n",
    "    plt.ylabel('Tempo de hash (µs)')\n",
    "    plt.xlabel('Iterações')\n",
    "    plt.legend(loc='upper right')\n",
    "    plt.title(f'Tempos de Hashing SHA ({size} bytes)')\n",
    "    #plt.savefig(f'{file_name}_performance.png', dpi=120)\n",
    "    plt.show()\n",
    "    plt.close()\n",
    "\n",
    "    return sum(hash_times)/len(hash_times) if hash_times else None"
   ]
  },
  {
   "cell_type": "markdown",
   "metadata": {},
   "source": [
    "A função **process_unique_file(file_name, size)**, da mesma forma que as funções para AES e RSA, calcula e retorna o tempo de hashing de um só ficheiro iterado 100 vezes, em microssegundos. Para além disso, retorna um gráfico de linhas associado aos resultados obtidos, com o desvio padrão dos resultados. "
   ]
  },
  {
   "cell_type": "code",
   "execution_count": 13,
   "metadata": {},
   "outputs": [],
   "source": [
    "def process_unique_file(file_name, size):\n",
    "    base_dir = find_correct_path()\n",
    "    file_path = os.path.join(\n",
    "        base_dir, str(size), file_name)\n",
    "    \n",
    "    if not os.path.exists(file_path):\n",
    "        print(f\"Arquivo {file_path} não encontrado!\")\n",
    "        return\n",
    "\n",
    "    with open(file_path, \"rb\") as f:\n",
    "        data = f.read()\n",
    "\n",
    "    hash_times = []\n",
    "    for _ in range(100):\n",
    "        timer = timeit.Timer(\n",
    "            lambda: calculate_sha256_hash(data))\n",
    "        hash_time = (\n",
    "            timer.timeit(number=100) / 100) * 1000000\n",
    "        hash_times.append(hash_time)\n",
    "\n",
    "    # Gráfico de distribuição\n",
    "    plt.figure(figsize=(10, 6))\n",
    "    # ddof=1 for sample std deviation\n",
    "    std_hash = np.std(hash_times, ddof=1)  \n",
    "    # Gráfico de distribuição\n",
    "    plt.figure(figsize=(10, 6))\n",
    "    plt.text(0.75, 1.05, f\"Std Dev: {std_hash:.2f}\", \n",
    "             fontsize=12, color='blue',\n",
    "             verticalalignment='bottom', \n",
    "             horizontalalignment='center', \n",
    "             transform=plt.gca().transAxes)\n",
    "    # Show ticks every 10 iterations\n",
    "    tick_positions = range(0, 101, 10)  \n",
    "    # Set X-axis to display only 10th iterations\n",
    "    plt.xticks(tick_positions)  \n",
    "    # Set the width of the bars\n",
    "    bar_width = 1\n",
    "    # Indices for X-axis\n",
    "    index = range(1, len(hash_times) + 1)  \n",
    "    # Plot the lines\n",
    "    plt.plot([i - bar_width / 2 for i in index], \n",
    "             hash_times, '-', linewidth=2, \n",
    "             color='blue', label='Tempo de Hash')\n",
    "    plt.ylabel('Tempo de hash (µs)')\n",
    "    plt.xlabel('Iterações')\n",
    "    plt.legend(loc='upper right')\n",
    "    plt.title(f'Distribuição de tempos - {file_name}')\n",
    "    #plt.savefig(f'{file_name}_performance.png', dpi=120)\n",
    "    plt.show()\n",
    "    plt.close()"
   ]
  },
  {
   "cell_type": "markdown",
   "metadata": {},
   "source": [
    "---"
   ]
  },
  {
   "cell_type": "markdown",
   "metadata": {},
   "source": [
    "### Funções de projeção dos resultados em gráficos (AES, RSA, SHA)"
   ]
  },
  {
   "cell_type": "markdown",
   "metadata": {},
   "source": [
    "As funções são semelhantes, logo serão generalizadas para os três modos."
   ]
  },
  {
   "cell_type": "markdown",
   "metadata": {},
   "source": [
    "A função **plot_results(arrayEnc, arrayDec, file)** retorna um gráfico de linhas com os tempos de encriptação e desencriptação respetivos a cada iteração de um só ficheiro. O tempo de encriptação está a azul, e o tempo de desencriptação a vermelho. O tempo é medido em microssegundos. Também é possível ter acesso ao desvio padrão (std dev) dos resultados obtidos. A função apresentada é para o modo AES, sendo igual nos restantes modos."
   ]
  },
  {
   "cell_type": "code",
   "execution_count": 14,
   "metadata": {},
   "outputs": [],
   "source": [
    "def plot_results(arrayEnc, arrayDec, file):\n",
    "    # Create a figure\n",
    "    plt.figure(figsize=(12, 8))\n",
    "\n",
    "    # Set the width\n",
    "    bar_width = 1\n",
    "     # Indices for X-axis\n",
    "    index = range(1, len(arrayEnc) + 1) \n",
    "\n",
    "    # Plot the lines\n",
    "    plt.plot([i - bar_width / 2 for i in index], \n",
    "             arrayEnc, '-', \n",
    "             linewidth=2, color='blue', \n",
    "             label='Encryption Time')\n",
    "    plt.plot([i - bar_width / 2 for i in index], \n",
    "             arrayDec, '-', \n",
    "             linewidth=2, color='red',\n",
    "             label='Decryption Time')\n",
    "\n",
    "    # Compute standard deviation for encryption times\n",
    "    # ddof=1 for sample std deviation\n",
    "    std_enc = np.std(arrayEnc, ddof=1)  \n",
    "    std_dec = np.std(arrayDec, ddof=1)  \n",
    "\n",
    "    # Adding labels and title\n",
    "    plt.xlabel('Iteration')\n",
    "    plt.ylabel('Time (microseconds)')\n",
    "    plt.title(f\"AES Encryption and Decryption Times for \n",
    "              {file}\")\n",
    "    \n",
    "    # Set X-axis labels to the index of iterations\n",
    "     # Show ticks every 10 iterations\n",
    "    tick_positions = range(0, 101, 10) \n",
    "    # Set X-axis to display only 10th iterations\n",
    "    plt.xticks(tick_positions)  \n",
    "    plt.legend(loc='upper right')\n",
    "\n",
    "    # Display both standard deviations \n",
    "    #below the title and above the bars\n",
    "    plt.text(0.25, 1.05, f\"Std Dev (Encryption): \n",
    "             {std_enc:.2f}\", \n",
    "             fontsize=12, color='blue',\n",
    "             verticalalignment='bottom', \n",
    "             horizontalalignment='center', \n",
    "             transform=plt.gca().transAxes)\n",
    "    \n",
    "    plt.text(0.75, 1.05, f\"Std Dev (Decryption): \n",
    "             {std_dec:.2f}\", \n",
    "             fontsize=12, color='red',\n",
    "             verticalalignment='bottom', \n",
    "             horizontalalignment='center', \n",
    "             transform=plt.gca().transAxes)\n",
    "    # Display the plot\n",
    "    plt.show()"
   ]
  },
  {
   "cell_type": "markdown",
   "metadata": {},
   "source": [
    "A função **plot_graph(results)**, especificada para o modo AES, é utilizada para retornar o gráfico de linhas para um tamanho específico, com as variações dos 100 ficheiros correspondentes. É possível, também, observar o desvio padrão dos resultados."
   ]
  },
  {
   "cell_type": "code",
   "execution_count": 15,
   "metadata": {},
   "outputs": [],
   "source": [
    "def plot_graph(results):\n",
    "    # Loop através dos resultados para cada pasta/tamanho\n",
    "    for folder_size, times in results.items():\n",
    "        # Criar um novo gráfico para cada tamanho de pasta\n",
    "        # Definir o tamanho da figura\n",
    "        plt.figure(figsize=(12, 8))  \n",
    "\n",
    "        bar_width = 1\n",
    "        # Indices for X-axis\n",
    "        index = range(1, len(times['encryption_time']) + 1)  \n",
    "        # Plotando o tempo de encriptação\n",
    "        plt.plot([i - bar_width / 2 for i in index], \n",
    "                 times['encryption_time'], '-', \n",
    "                 linewidth=2, color='blue', \n",
    "                 label='Encryption Time')\n",
    "        \n",
    "        # Plotando o tempo de decriptação\n",
    "        plt.plot([i - bar_width / 2 for i in index], \n",
    "                 times['decryption_time'], '-', \n",
    "                 linewidth=2, color='red', \n",
    "                 label='Decryption Time')\n",
    "        \n",
    "        # Calculate the standard deviation \n",
    "        #for encryption and decryption times\n",
    "        std_enc = np.std(times['encryption_time'], ddof=1)\n",
    "        std_dec = np.std(times['decryption_time'], ddof=1)\n",
    "\n",
    "        # Ajustar os rótulos e título para o gráfico\n",
    "        plt.xlabel('File Index')\n",
    "        plt.ylabel('Time (Microseconds)')\n",
    "        plt.title(f\"Encryption and Decryption Times for AES (\n",
    "                  {folder_size} bytes)\")\n",
    "        \n",
    "        # Definir os ticks no eixo X para mostrar a cada 10 arquivos\n",
    "        # Mostrar ticks a cada 10 iterações\n",
    "        tick_positions = range(0, 101, 10)  \n",
    "        plt.xticks(tick_positions)\n",
    "        plt.legend()\n",
    "        # Display both standard deviations \n",
    "        #below the title and above the bars\n",
    "        plt.text(0.25, 1.05, f\"Std Dev (Encryption): \n",
    "                 {std_enc:.2f}\", \n",
    "                 fontsize=12, color='blue',\n",
    "                verticalalignment='bottom', \n",
    "                horizontalalignment='center', \n",
    "                transform=plt.gca().transAxes)\n",
    "        \n",
    "        plt.text(0.75, 1.05, f\"Std Dev (Decryption): \n",
    "                 {std_dec:.2f}\", \n",
    "                 fontsize=12, color='red',\n",
    "                verticalalignment='bottom', \n",
    "                horizontalalignment='center', \n",
    "                transform=plt.gca().transAxes)\n",
    "        plt.show()"
   ]
  },
  {
   "cell_type": "markdown",
   "metadata": {},
   "source": [
    "A função **plot_graph_avg(results)**, utilizada para o ficheiro de RSA, tem como retorno o gráfico de linhas para a média de cada tamanho utilizado pelo modo. No caso do RSA, é nos dada a média de tempo de encriptação e decriptação para os tamanhos 2, 4, 8, 16, 32, 64 e 128 bytes. Uma função com a mesma estrutura foi utilizada para retornar um gráfico de linhas para a média de cada tamanho utilizado pelo modo AES. No caso do AES os tamanhos são de 8, 64, 512, 4096, 32768, 262144 e 2097152 bytes."
   ]
  },
  {
   "cell_type": "code",
   "execution_count": 16,
   "metadata": {},
   "outputs": [],
   "source": [
    "def plot_graph_avg(results): # works well, corrigir avg dec \n",
    "    # For each size, compute the average encryption and decryption time\n",
    "    sizes = sorted(results.keys())\n",
    "    avg_enc_times = []\n",
    "    avg_dec_times = []\n",
    "\n",
    "    for s in sizes:\n",
    "        avg_enc = sum(results[s]['encryption_time']) / (\n",
    "            len(results[s]['encryption_time']))\n",
    "        avg_dec = sum(results[s]['decryption_time']) / (\n",
    "            len(results[s]['decryption_time']))\n",
    "        # Calculate the standard deviation \n",
    "        #for encryption and decryption times\n",
    "        avg_enc_times.append(avg_enc)\n",
    "        avg_dec_times.append(avg_dec)\n",
    "\n",
    "\n",
    "    plt.figure(figsize=(12, 8))\n",
    "    \n",
    "    # Line plot for encryption and decryption times\n",
    "    plt.plot(sizes, avg_enc_times, marker='o', \n",
    "             color='blue', label='Encryption Time')\n",
    "    plt.plot(sizes, avg_dec_times, marker='x', \n",
    "             color='red', label='Decryption Time')\n",
    "\n",
    "    # Adding labels and title\n",
    "    plt.xscale('log')  # 'log' for better visualization\n",
    "    plt.xlabel('Size (Bytes)')\n",
    "    plt.ylabel('Time (Microseconds)')\n",
    "    plt.title(\"Average Encryption and Decryption Times for RSA\")\n",
    "    plt.xticks(sizes, [str(x) for x in sizes])\n",
    "    # Display the bars and the legend\n",
    "    plt.legend()\n",
    "    plt.show()"
   ]
  },
  {
   "cell_type": "markdown",
   "metadata": {},
   "source": [
    "A função **plot_sha256_performance(results)** funciona como a plot_graph_avg(results), mas para hashing, retornando um gráfico de linhas."
   ]
  },
  {
   "cell_type": "code",
   "execution_count": 17,
   "metadata": {},
   "outputs": [],
   "source": [
    "def plot_sha256_performance(results, std_devs):\n",
    "    x_values = list(results.keys())\n",
    "    y_values = list(results.values())\n",
    "\n",
    "    plt.figure(figsize=(12, 8))\n",
    "    plt.plot(x_values, y_values, '-', \n",
    "             linewidth=2,color='blue', label='Tempo de Hash')\n",
    "    plt.xscale('log')    \n",
    "    plt.xlabel('Tamanho do arquivo (bytes)', fontsize=12)\n",
    "    plt.ylabel('Tempo médio de hash (µs)', fontsize=12)\n",
    "    plt.title('Desempenho do SHA-256 por Tamanho de Arquivo', \n",
    "              fontsize=14)\n",
    "    plt.grid(True, alpha=0.3)\n",
    "    plt.xticks(x_values, [str(x) for x in x_values], \n",
    "               rotation=45)\n",
    "    plt.legend(loc='upper right')\n",
    "    #plt.savefig('sha256_performance.png', dpi=300)\n",
    "    plt.show()\n",
    "    plt.close()"
   ]
  },
  {
   "cell_type": "markdown",
   "metadata": {},
   "source": [
    "---"
   ]
  },
  {
   "cell_type": "markdown",
   "metadata": {},
   "source": [
    "## 3. Análise de Resultados "
   ]
  },
  {
   "cell_type": "markdown",
   "metadata": {},
   "source": [
    ">O computador usado para a obtenção dos resultadoa abaixo é o MacBook Air 2022, de chip M2. Possui o OS Sequoia 15.3.1, memória de 16GB e tem como disco de arranque o Macintosh HD."
   ]
  },
  {
   "cell_type": "markdown",
   "metadata": {},
   "source": [
    "Na seguinte análise dos resultados obtidos serão comparados os tempos de cada modo em relação ao tamanho do ficheiro, isto é, separando os tamanhos trabalhados entre pequenos, médios e grandes. Assim, será feita uma comparação direta entre modos criptográficos, tal como análises individuais. As análises estarão focadas nas últimas iterações do processo, pois as primeiras não são relevantes e pouco credíveis."
   ]
  },
  {
   "cell_type": "markdown",
   "metadata": {},
   "source": [
    "### Ficheiros pequenos: comparação entre os resultados dos 3 modos"
   ]
  },
  {
   "cell_type": "markdown",
   "metadata": {},
   "source": [
    "![Ficheiros pequenos](resultados/ficheiroPequeni.png)"
   ]
  },
  {
   "cell_type": "markdown",
   "metadata": {},
   "source": [
    "Em relação aos ficheiros pequenos, foram selecionados os menores tamanhos a serem trabalhados: 2 bytes para o modo RSA, e 8 bytes para os restantes modos.\n",
    "Com 8 bytes, o modo AES cifra e decifra com idêntica rapidez, rondando os 10 µs. Os respetivos desvios padrão são assim semelhantes (1,36 µs e 1,32 µs, respetivamente).\n",
    "Já o modo RSA cifrou os ficheiros de 2 bytes em 100 µs mas decrifrou-os em 1750 µs, o que demonstra que é mais rápido encriptar um ficheiro do que desencriptá-lo. Os desvios padrão coincidem com isso, sendo de 1.68 µs e 8.36 µs, respetivamente.\n",
    "Por fim, no processo de Hashing (SHA-256), é possível ver uma ligeira descida de tempo, estagnando aproximadamente nos 0.6 µs. O seu desvio padrão é igualmente pequeno, com 0.18 µs. Permite-nos assim concluir que, para ficheiros pequenos, o modo SHA é bastante rápido.\n",
    "Numa análise individual, a codificação e descodificação de vários ficheiros com um único tamanho pode ter as suas variações. No modo AES, não possui quase variações de tempo, excluindo os primeiros dez ficheiros, tal como no modo RSA. Já o modo SHA desce ao longo das iterações, tendo um início irrelevante acima de 1.6 µs, e desce até aos 0.6 µs. Conclui-se assim que, para ficheiros pequenos, a variação é quase nula."
   ]
  },
  {
   "cell_type": "markdown",
   "metadata": {},
   "source": [
    "### Ficheiros médios: comparação entre os resultados dos 3 modos"
   ]
  },
  {
   "cell_type": "markdown",
   "metadata": {},
   "source": [
    "![Ficheiros Médios](resultados/ficheiroMedio.png)"
   ]
  },
  {
   "cell_type": "markdown",
   "metadata": {},
   "source": [
    "No que diz respeito a ficheiros médios, foram escolhidos para análise: 16 bytes para o RSA e 4096 bytes para os restantes modos.\n",
    "Com AES, o tempo de codificação, que ronda os 13.1 µs,  é maior que o tempo de descodificação, aproximadamente 8.5 µs, sendo ambos estáveis e com um desvio padrão baixo, de 0.11 e 0.14, respetivamente. \n",
    "No modo RSA, o tempo mantém-se igual ao de um ficheiro pequeno, isto é, cifra em 100 µs e decifra em 1750 µs. Assim, os desvios padrão respetivos coincidem com as conclusões anteriores, com 0.40 µs de encriptação e 9.02 de desencriptação. \n",
    "Por último, no modo SHA, tal como num ficheiro pequeno, ocorrem variações e descidas de tempo. Descartando as variações iniciais, que chegam quase a 7 µs, a partir do 50º ficheiro o tempo de hashing é de aproximadamente 2 µs. O desvio padrão dos resultados obtidos é baixo, com um valor de 0.89 µs. Conclui-se que no geral, e excluindo as variações iniciais, o tempo é estável. \n",
    "Pode-se concluir que a codificação e descodificação de vários ficheiros com um único tamanho continua a não ter muitas variações."
   ]
  },
  {
   "cell_type": "markdown",
   "metadata": {},
   "source": [
    "### Ficheiros grandes: comparação entre os resultados dos 3 modos"
   ]
  },
  {
   "cell_type": "markdown",
   "metadata": {},
   "source": [
    "![Ficheiros Grandes](resultados/ficheiroGrande.png)"
   ]
  },
  {
   "cell_type": "markdown",
   "metadata": {},
   "source": [
    "Relativamente a ficheiros grandes, serão analisados os tamanhos: 128 bytes para o RSA e 2097152 bytes para os restantes modos.\n",
    "Usando o AES, ambos os tempos, comparativamente aos tamanhos anteriores, aumentaram significativamente. O tempo de encriptação aproxima-se dos 4000 µs, e o tempo de desencriptação é de mais de 500 µs, havendo assim uma grande diferença entre tempos, o que indica que os processos envolvidos na encriptação podem ser mais exigentes que na desencriptação.\n",
    "Com o modo RSA, os tempos continuam semelhantes aos analisados anteriormente. Neste caso, ocorreram variações no 60º ficheiro, com um pico máximo de descodificação de aproximadamente 2700 µs, e por isso o seu desvio padrão é alto, com 152.02 µs. O desvio padrão de codificação continua baixo, com 6.17 µs. \n",
    "Por último, o SHA possui uma variação grande no 35º ficheiro, por razões comuns relacionadas possivelmente ao hardware, atingindo uma Alor de mais de 2000 µs. O desvio padrão reflete nessa variação, com o valor de 111.74 µs. De resto, os tempos são baixos e estáveis, de aproximadamente 1400 µs.\n",
    "É possível concluir que, tal como nos tamanhos inferiores, em tamanhos grandes a iteração entre ficheiros do mesmo tamanho não possui grandes alterações, a não ser que, por alguma razão, a performance do CPU se altere, por exemplo. "
   ]
  },
  {
   "cell_type": "markdown",
   "metadata": {},
   "source": [
    "### Ficheiro único (64_5.txt): comparação entre os resultados dos 3 modos"
   ]
  },
  {
   "cell_type": "markdown",
   "metadata": {},
   "source": [
    "![Ficheiro único](resultados/uniqueFile.png)"
   ]
  },
  {
   "cell_type": "markdown",
   "metadata": {},
   "source": [
    "Para a análise das variações de tempo num ficheiro único, iterado 100 vezes, foi escolhido o ficheiro 64_5.txt, de tamanho 64 bytes.\n",
    "Com o modo AES, a variação é quase nula, com tempos de codificação e descodificação que se encontram entre 6.8 µs e 7.6 µs. Isso reflete-se no desvio padrão, de valores 0.20 e 0.08 respetivamente. \n",
    "Usando o RSA, as variações são pequenas, situando-se principalmente na desencriptação. O tempo de encriptação é de 100 µs, como nos restantes tamanhos, e o tempo de desencriptação é de 1750 µs. Os desvios padrão são 1.43 µs e 10.59 µs, respetivamente. \n",
    "Como nos modos anteriores, o modo SHA não possui grandes variações, com tempos situados entre 0.53 µs e 0.58 µs, com um desvio padrão de 0.02 µs. É, então, o modo com menos variações. "
   ]
  },
  {
   "cell_type": "markdown",
   "metadata": {},
   "source": [
    "### Média de tempos: comparação entre os resultados dos 3 modos"
   ]
  },
  {
   "cell_type": "markdown",
   "metadata": {},
   "source": [
    "![Comparação de médias](resultados/avg.png)"
   ]
  },
  {
   "cell_type": "markdown",
   "metadata": {},
   "source": [
    "Numa análise geral à média dos resultados para cada modo, podem-se retirar algumas conclusões.\n",
    "No gráfico de AES, observa-se um aumento quase exponencial no tempo de encriptação, e um aumento linear no tempo de desencriptação. Pode-se concluir que o tamanho dos arquivos influencia, de certa forma, os tempos de encriptação e desencriptação. O valor mais baixo é muito próximo de 0 µs em ambos os processos. O valor mais alto é de mais de 3000 µs para a encriptação, e de quase 1000 µs para a desencriptação.\n",
    "No gráfico de RSA, é possível observar um crescimento constante em ambos os processos. Na codificação, o tempo mantém-se, para cada tamanho, nos 100 µs. Na descodificação ronda os 1750 µs. É possível concluir que, para os tamanhos estudados, estes não influenciam o tempo de encriptação e decriptação, visto que numa chave de 2048 bits, ou 256 bytes, todos os tamanhos são menores que a mesma. Em tamanhos muito maiores, os tempos iriam aumentar significativamente.\n",
    "Por último, no gráfico de SHA, é visível um crescimento potencialmente exponencial, que atinge os 1400 µs com o tamanho máximo de 2097152 bytes. O tempo mais baixo obtido foi de quase 0 µs. Conclui-se assim que o tamanho de um ficheiro influencia o tempo de hashing."
   ]
  },
  {
   "cell_type": "markdown",
   "metadata": {},
   "source": [
    "---"
   ]
  },
  {
   "cell_type": "markdown",
   "metadata": {},
   "source": [
    "### Comparação entre encriptação AES e encriptação RSA"
   ]
  },
  {
   "cell_type": "markdown",
   "metadata": {},
   "source": [
    "![AES e RSA](resultados/AES_RSA.png)"
   ]
  },
  {
   "cell_type": "markdown",
   "metadata": {},
   "source": [
    "A encriptação é um aspeto fundamental da segurança digital, protegendo informação de acessos não autorizados. Entre vários modelos de encriptação, o AES e o RSA são dois métodos proeminentes que representam dois tipos fundamentais de algoritmos criptográficos. Têm objetivos distintos, cada um com as suas vantagens e desvantagens. \n",
    "A escolha entre estes dois métodos depende da necessidade do utilizador. Para uma encriptação segura, eficiente e linear de grandes quantidades de dados, o AES é preferível. Por outro lado, em situações que requerem comunicações seguras entre canais com pouca segurança, como a Internet, o RSA providencia um método seguro para a troca de chaves, que podem ser posteriormente usadas com o AES.\n",
    "Em relação à velocidade, o AES é muito mais rápido que o RSA, e é mais adequado aquando de criptografar grandes quantidades de dados. No exemplo dado, num ficheiro de 64 bytes, a encriptação é bastante rápida no AES, estando entre os 7.2 µs e os 7.7 µs, com um desvio padrão de 0.10 µs. Já no RSA, ronda os 100 µs, com um desvio padrão de 3.84 µs. A diferença é grande, o que comprova que a encriptação de AES é mais eficiente que a encriptação de RSA. \n",
    "O modo RSA é tipicamente usado para a troca segura de chaves e assinaturas digitais, pois lida com tamanhos de dados bastante pequenos. O modo AES é usado para a encriptação de dados com tamanhos variados, principalmente em grande escala."
   ]
  },
  {
   "cell_type": "markdown",
   "metadata": {},
   "source": [
    "### Comparação entre encriptação AES e digest generation SHA-256"
   ]
  },
  {
   "cell_type": "markdown",
   "metadata": {},
   "source": [
    "![AES e SHA256](resultados/AES_SHA.png)"
   ]
  },
  {
   "cell_type": "markdown",
   "metadata": {},
   "source": [
    "Os algoritmos criptográficos AES e SHA-256 servem diferentes propósitos e têm características distintas. A grande diferença entre estes algoritmos é que o SHA-256 não possui um processo de encriptação, mas sim um processo único, com apenas um sentido. É usado em ficheiros grandes para computar o seu “hash” ou “digest”, e com esse resultado não é possível recuperar o ficheiro original. Já o AES é um algoritmo de criptografia simétrica, que usa blocos de 16 bytes e os cifra, com uma chave única que permite a codificação e a descodificação. \n",
    "Comparando a encriptação AES com o tempo de hashing do SHA-256, é possível ver pequenas diferenças, e concluir que o processo de hashing é ligeiramente mais rápido que a encriptação AES nos resultados obtidos. No exemplo dado, num ficheiro de 4096 bytes, a encriptação AES tem um tempo de aproximadamente 13.3 µs, com um desvio padrão de 0.11 µs. Já no modo SHA-256, ignorando as variações iniciais das primeiras 30 iterações, tem um tempo de 3 µs, e um desvio padrão de 0.89 µs. Mesmo que o desvio padrão seja maior no SHA-256 do que no AES, isso só ocorre devido às variações iniciais do SHA-256, que chegam aos 6.9 µs. \n",
    "Mesmo assim, o algoritmo AES é melhor que o SHA-256, pois este reversível com a chave correta."
   ]
  },
  {
   "cell_type": "markdown",
   "metadata": {},
   "source": [
    "### Comparação entre o tempo de encriptação e decriptação de RSA"
   ]
  },
  {
   "cell_type": "markdown",
   "metadata": {},
   "source": [
    "![RSA](resultados/RSA.png)"
   ]
  },
  {
   "cell_type": "markdown",
   "metadata": {},
   "source": [
    "Para o RSA, especificamente, a desencriptação é mais lenta que a encriptação. Isto acontece porque tanto a encriptação como a desencriptação usam exponenciais modulares, mas, enquanto que o expoente público de encriptação é tipicamente pequeno e fixo (está normalmente entre 3 e 65537), o expoente privado de desencriptação é quase tão grande como o próprio módulo. Por isso, duplicar o tamanho do módulo irá duplicar o tempo de encriptação e irá quadriplicar o tempo de desencriptação. Uma solução em alguns casos é recorrer ao uso do Teorema Chinês do Resto (Chinese Remainder Theorem), que acelera a desencriptação do RSA.\n",
    "Estudando os resultados obtidos, nos ficheiros de 2, 16 e 128 bytes, a diferença é mínima. Isto deve-se ao tamanho da chave pública, de 2048 bits. Os tamanhos trabalhados são pequenos o suficiente para se encaixar num único bloco (256 bytes). Mas comparando o tempo de codificação com o de descodificação, a diferença é grande. Nesses ficheiros, o tempo de codificação é de 100 µs, com um desvio padrão de 1.68 µs, e o tempo de descodificação é de 1750 µs, com um desvio padrão de 8.36 µs, o que comprova a informação acima."
   ]
  },
  {
   "cell_type": "markdown",
   "metadata": {},
   "source": [
    "### Intervalos de Confiança"
   ]
  },
  {
   "cell_type": "markdown",
   "metadata": {},
   "source": [
    "![Intervalos de confiança](resultados/intervalos.png)"
   ]
  },
  {
   "cell_type": "markdown",
   "metadata": {},
   "source": [
    "O intervalo de confiança (IC) é uma faixa de valores que provavelmente contém o valor real de um parâmetro populacional, como a média. Foi usado um IC de 95%, o que significa que, se repetirmos a experiência várias vezes, 95% dos intervalos irão conter o valor real. A baixo estão os intervalos de confiança dos 3 algoritmos criptográficos. Um exemplo de um intervalo de confiança para encriptação, para o modo AES, com ficheiros de tamanho 512 bytes, é (8.10, 8.14). Isso significa que há 95% de certeza de que a média populacional está dentro desse intervalo.\n"
   ]
  },
  {
   "cell_type": "markdown",
   "metadata": {},
   "source": [
    "---"
   ]
  },
  {
   "cell_type": "markdown",
   "metadata": {},
   "source": [
    "## 4. Conclusão"
   ]
  },
  {
   "cell_type": "markdown",
   "metadata": {},
   "source": [
    "Através este trabalho, é possível concluir que o tamanho dos arquivos influencia diretamente o tempo de processamento dos algoritmos criptográficos. Enquanto que o RSA mantém tempos relativamente constantes em ficheiros pequenos, apresenta um crescimento significativo em relação ao tempo de processamento de ficheiros maiores, tornando-se ineficiente. Por outro lado, o AES demonstra um desempenho altamente linear, mantendo tempos de encriptação e desencriptação significativamente pequenos, mesmo em tamanhos grandes. \n",
    "Os testes realizados com o algoritmo SHA-256 demonstram que o tempo de processamento do mesmo depende diretamente do tamanho da entrada, uma vez que o algoritmo processa os dados em blocos de 512 bits. Embora seja altamente seguro e eficiente para garantir a integridade e autenticidade dos dados, o seu desempenho pode ser impactado em cenários onde grandes quantidades de informação precisam ser processadas rapidamente.\n",
    "Os resultados obtidos confirmam, então, que os algoritmos simétricos, como o AES, são mais eficientes para encriptação de grandes quantidades de dados, enquanto que algoritmos assimétricos, como o RSA, são mais adequados para encriptar pequenas quantidades de dados, como chaves. \n",
    "Esta diferença de desempenho reforça o método de combinar algoritmos. \n",
    "Assim, o estudo reforça a importância da escolha adequada do algoritmo de criptografia dependendo do contexto e da necessidade, equilibrando segurança e eficiência para otimizar o desempenho dos sistemas criptográficos."
   ]
  },
  {
   "cell_type": "markdown",
   "metadata": {},
   "source": [
    "---"
   ]
  },
  {
   "cell_type": "markdown",
   "metadata": {},
   "source": [
    "## 5. Webgrafia "
   ]
  },
  {
   "cell_type": "markdown",
   "metadata": {},
   "source": [
    "- OpenAI (2025). ChatGPT. [online] chatgpt.com. Available at: [https://chatgpt.com](https://chatgpt.com);\n",
    "- Wikipedia Contributors (2024). RSA (cryptosystem). [online] Wikipedia. Available at: [https://en.wikipedia.org/wiki/RSA_cryptosystem](https://en.wikipedia.org/wiki/RSA_cryptosystem);\n",
    "- Das, D. (2023). Difference Between AES and SHA256. [online] Medium. Available at: [https://diptendud.medium.com/difference-between-aes-and-sha256-706d6b2eb2ef](https://diptendud.medium.com/difference-between-aes-and-sha256-706d6b2eb2ef9);\n",
    "- Why (2013). Why is RSA encryption significantly faster than decryption? [online] Cryptography Stack Exchange. Available at: [https://crypto.stackexchange.com/questions/6378/why-is-rsa-encryption-significantly-faster-than-decryption](https://crypto.stackexchange.com/questions/6378/why-is-rsa-encryption-significantly-faster-than-decryption) [Accessed 2 Apr. 2025];\n",
    "- key, R. (2013). PGP RSA key size - encryption/decryption time. [online] Information Security Stack Exchange. Available at: [https://security.stackexchange.com/questions/41937/pgp-rsa-key-size-encryption-decryption-time](https://security.stackexchange.com/questions/41937/pgp-rsa-key-size-encryption-decryption-time) [Accessed 2 Apr. 2025];\n",
    "- Team, T.P. (2024). AES vs RSA Encryption -. [online] Phalanx.io. Available at: [https://phalanx.io/aes-vs-rsa-encryption/](https://phalanx.io/aes-vs-rsa-encryption/)."
   ]
  }
 ],
 "metadata": {
  "kernelspec": {
   "display_name": "Python 3 (ipykernel)",
   "language": "python",
   "name": "python3"
  },
  "language_info": {
   "codemirror_mode": {
    "name": "ipython",
    "version": 3
   },
   "file_extension": ".py",
   "mimetype": "text/x-python",
   "name": "python",
   "nbconvert_exporter": "python",
   "pygments_lexer": "ipython3",
   "version": "3.11.5"
  }
 },
 "nbformat": 4,
 "nbformat_minor": 4
}
