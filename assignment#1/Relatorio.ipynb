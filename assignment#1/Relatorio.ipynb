{
 "cells": [
  {
   "cell_type": "markdown",
   "metadata": {},
   "source": [
    "# **Performance Benchmarking of Cryptographic Mechanisms**"
   ]
  },
  {
   "cell_type": "markdown",
   "metadata": {},
   "source": [
    "# Introdução"
   ]
  },
  {
   "cell_type": "markdown",
   "metadata": {},
   "source": [
    "O objetivo do seguinte projeto é medir o tempo que AES, RSA e SHA levam para processar arquivos de diferentes tamanhos, usando uma implementação em Python para os mecanismos de encriptação/descriptação e hash."
   ]
  },
  {
   "cell_type": "markdown",
   "metadata": {},
   "source": [
    "**AES (Advanced Encryption Standard)**"
   ]
  },
  {
   "cell_type": "markdown",
   "metadata": {},
   "source": [
    "O AES é um algoritmo de criptografia simétrica, ou seja, usa a mesma chave para encriptação e decriptação. Ele opera com blocos de 128 bits e suporta chaves de 128, 192 ou 256 bits. O AES é amplamente utilizado devido à sua segurança, velocidade e eficiência em hardware e software."
   ]
  },
  {
   "cell_type": "markdown",
   "metadata": {},
   "source": [
    "**RSA (Rivest-Shamir-Adleman)**"
   ]
  },
  {
   "cell_type": "markdown",
   "metadata": {},
   "source": [
    "O RSA é um algoritmo de criptografia assimétrica, ou seja, usa um par de chaves: uma chave pública para encriptação e uma chave privada para decriptação."
   ]
  },
  {
   "cell_type": "markdown",
   "metadata": {},
   "source": [
    "**SHA (Secure Hash Algorithm)**"
   ]
  },
  {
   "cell_type": "markdown",
   "metadata": {},
   "source": [
    "O SHA é uma família de funções de hash criptográfico desenvolvida pela NSA (National Security Agency). A sua principal função é converter dados de qualquer tamanho num tamanho fixo de bits (hash), garantindo integridade e autenticidade.\n",
    "\n",
    "O trabalho especifica o uso do SHA-256, que gera um hash de 256 bits. É amplamente utilizado em assinaturas digitais, blockchain e verificação de integridade de arquivos."
   ]
  },
  {
   "cell_type": "markdown",
   "metadata": {},
   "source": [
    "# Implementação "
   ]
  },
  {
   "cell_type": "markdown",
   "metadata": {},
   "source": [
    "**Geração de Arquivos**"
   ]
  },
  {
   "cell_type": "code",
   "execution_count": null,
   "metadata": {},
   "outputs": [],
   "source": [
    "import os\n",
    "import random\n",
    "import string\n",
    "\n",
    "def generate_random_file(folder, filename, size):\n",
    "    file_path = os.path.join(\"text_files\", folder, filename)\n",
    "    os.makedirs(os.path.dirname(file_path), exist_ok=True)  # Ensure directory exists\n",
    "    \n",
    "    random_content = ''.join(random.choices(string.ascii_letters + string.digits, k=size))\n",
    "    with open(file_path, \"w\") as f:\n",
    "        f.write(random_content)\n",
    "\n",
    "file_sizes = [2, 4, 8, 16, 32, 64, 128, 512, 4096, 32768, 262144, 2097152]  # Adjust for RSA if needed\n",
    "for size in file_sizes:\n",
    "    folder_name = str(size)  # Folder named after size\n",
    "    for i in range(1, 101):\n",
    "        generate_random_file(folder_name, f\"{size}_{i}.txt\", size)"
   ]
  },
  {
   "cell_type": "markdown",
   "metadata": {},
   "source": [
    "**Encriptação e Descriptação com AES**"
   ]
  },
  {
   "cell_type": "markdown",
   "metadata": {},
   "source": []
  },
  {
   "cell_type": "markdown",
   "metadata": {},
   "source": [
    "**Encriptação e Descriptação com RSA**"
   ]
  },
  {
   "cell_type": "markdown",
   "metadata": {},
   "source": []
  },
  {
   "cell_type": "markdown",
   "metadata": {},
   "source": [
    "**Hashing com SHA-256**"
   ]
  },
  {
   "cell_type": "markdown",
   "metadata": {},
   "source": []
  },
  {
   "cell_type": "markdown",
   "metadata": {},
   "source": [
    "# Resultados"
   ]
  },
  {
   "cell_type": "markdown",
   "metadata": {},
   "source": [
    "**AES**: Tempo de encriptação/descriptação vs. tamanho do arquivo"
   ]
  },
  {
   "cell_type": "markdown",
   "metadata": {},
   "source": [
    "**RSA**: Tempo de encriptação vs. tempo de descriptação"
   ]
  },
  {
   "cell_type": "markdown",
   "metadata": {},
   "source": [
    "**SHA**: Tempo de hashing vs. tamanho do arquivo"
   ]
  },
  {
   "cell_type": "markdown",
   "metadata": {},
   "source": [
    "# Análise de Resultados"
   ]
  },
  {
   "cell_type": "markdown",
   "metadata": {},
   "source": [
    "**Comparação entre AES e RSA**"
   ]
  },
  {
   "cell_type": "markdown",
   "metadata": {},
   "source": [
    "**Comparação entre AES e SHA-256**"
   ]
  },
  {
   "cell_type": "markdown",
   "metadata": {},
   "source": [
    "**Comparação entre tempos de RSA (encriptação vs. descriptação)**"
   ]
  },
  {
   "cell_type": "markdown",
   "metadata": {},
   "source": [
    "# Conclusão"
   ]
  },
  {
   "cell_type": "markdown",
   "metadata": {},
   "source": [
    "Através este trabalho, é possível concluir que o tamanho dos arquivos influencia diretamente o tempo de processamento, sendo os algoritmos simétricos mais eficientes  que os assimétricos. Os resultados obtidos reforçam o uso combinado de algoritmos criptográficos para otimizar a segurança e o desempenho."
   ]
  }
 ],
 "metadata": {
  "language_info": {
   "name": "python"
  }
 },
 "nbformat": 4,
 "nbformat_minor": 2
}
